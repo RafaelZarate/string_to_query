{
 "cells": [
  {
   "cell_type": "code",
   "execution_count": 1,
   "metadata": {},
   "outputs": [],
   "source": [
    "from copy import deepcopy\n",
    "from str_to_query import QueryBuilder"
   ]
  },
  {
   "cell_type": "code",
   "execution_count": 2,
   "metadata": {},
   "outputs": [],
   "source": [
    "query_builder = QueryBuilder('dynamodb')"
   ]
  },
  {
   "cell_type": "code",
   "execution_count": 3,
   "metadata": {},
   "outputs": [],
   "source": [
    "test_string_1 = '(a:1_)AND(b:2)AND(c:3)AND(d:4)'\n",
    "test_string_2 = '((a:1_)AND(b:2))AND((c:3)AND(d:4))'\n",
    "\n",
    "query_1 = query_builder(test_string_1)\n",
    "query_2 = query_builder(test_string_2)"
   ]
  },
  {
   "cell_type": "code",
   "execution_count": 4,
   "metadata": {},
   "outputs": [
    {
     "name": "stdout",
     "output_type": "stream",
     "text": [
      "<a : eq : 1_>\n",
      "<AND>\n",
      "<b : eq : 2>\n",
      "<AND>\n",
      "<c : eq : 3>\n",
      "<AND>\n",
      "<d : eq : 4>\n",
      "\n",
      "------\n",
      "\n",
      "<a : eq : 1_>\n",
      "<AND>\n",
      "<b : eq : 2>\n",
      "<AND>\n",
      "<c : eq : 3>\n",
      "<AND>\n",
      "<d : eq : 4>\n"
     ]
    }
   ],
   "source": [
    "query_1._print_tree('inorder')\n",
    "print('\\n------\\n')\n",
    "query_2._print_tree('inorder')"
   ]
  },
  {
   "cell_type": "code",
   "execution_count": 5,
   "metadata": {},
   "outputs": [
    {
     "name": "stdout",
     "output_type": "stream",
     "text": [
      "<AND>\n",
      "<a : eq : 1_>\n",
      "<AND>\n",
      "<b : eq : 2>\n",
      "<AND>\n",
      "<c : eq : 3>\n",
      "<d : eq : 4>\n",
      "\n",
      "------\n",
      "\n",
      "<AND>\n",
      "<AND>\n",
      "<a : eq : 1_>\n",
      "<b : eq : 2>\n",
      "<AND>\n",
      "<c : eq : 3>\n",
      "<d : eq : 4>\n"
     ]
    }
   ],
   "source": [
    "query_1._print_tree('preorder')\n",
    "print('\\n------\\n')\n",
    "query_2._print_tree('preorder')"
   ]
  },
  {
   "cell_type": "code",
   "execution_count": 6,
   "metadata": {},
   "outputs": [
    {
     "name": "stdout",
     "output_type": "stream",
     "text": [
      "<a : eq : 1_>\n",
      "<b : eq : 2>\n",
      "<c : eq : 3>\n",
      "<d : eq : 4>\n",
      "<AND>\n",
      "<AND>\n",
      "<AND>\n",
      "\n",
      "------\n",
      "\n",
      "<a : eq : 1_>\n",
      "<b : eq : 2>\n",
      "<AND>\n",
      "<c : eq : 3>\n",
      "<d : eq : 4>\n",
      "<AND>\n",
      "<AND>\n"
     ]
    }
   ],
   "source": [
    "query_1._print_tree('postorder')\n",
    "print('\\n------\\n')\n",
    "query_2._print_tree('postorder')"
   ]
  },
  {
   "cell_type": "code",
   "execution_count": 7,
   "metadata": {},
   "outputs": [
    {
     "data": {
      "text/plain": [
       "<function _operator.and_>"
      ]
     },
     "execution_count": 7,
     "metadata": {},
     "output_type": "execute_result"
    }
   ],
   "source": []
  }
 ],
 "metadata": {
  "kernelspec": {
   "display_name": "Python 3",
   "language": "python",
   "name": "python3"
  },
  "language_info": {
   "codemirror_mode": {
    "name": "ipython",
    "version": 3
   },
   "file_extension": ".py",
   "mimetype": "text/x-python",
   "name": "python",
   "nbconvert_exporter": "python",
   "pygments_lexer": "ipython3",
   "version": "3.6.6"
  }
 },
 "nbformat": 4,
 "nbformat_minor": 2
}
